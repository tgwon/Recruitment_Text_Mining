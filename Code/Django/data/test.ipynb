{
 "cells": [
  {
   "cell_type": "code",
   "execution_count": 26,
   "metadata": {},
   "outputs": [],
   "source": [
    "import pandas as pd"
   ]
  },
  {
   "cell_type": "code",
   "execution_count": 27,
   "metadata": {},
   "outputs": [],
   "source": [
    "tmp = pd.read_csv('final_sentence_df.csv')"
   ]
  },
  {
   "cell_type": "code",
   "execution_count": 28,
   "metadata": {},
   "outputs": [
    {
     "data": {
      "text/html": [
       "<div>\n",
       "<style scoped>\n",
       "    .dataframe tbody tr th:only-of-type {\n",
       "        vertical-align: middle;\n",
       "    }\n",
       "\n",
       "    .dataframe tbody tr th {\n",
       "        vertical-align: top;\n",
       "    }\n",
       "\n",
       "    .dataframe thead th {\n",
       "        text-align: right;\n",
       "    }\n",
       "</style>\n",
       "<table border=\"1\" class=\"dataframe\">\n",
       "  <thead>\n",
       "    <tr style=\"text-align: right;\">\n",
       "      <th></th>\n",
       "      <th>직무</th>\n",
       "      <th>sentence</th>\n",
       "      <th>nouns</th>\n",
       "      <th>kmeans_label</th>\n",
       "    </tr>\n",
       "  </thead>\n",
       "  <tbody>\n",
       "    <tr>\n",
       "      <th>0</th>\n",
       "      <td>머신러닝 엔지니어</td>\n",
       "      <td>기존 플리토 번역기에 신규 언어쌍 추가 및 플리토 번역기 성능 고도화를 담당합니다</td>\n",
       "      <td>['언어', '성능', '고도화']</td>\n",
       "      <td>2</td>\n",
       "    </tr>\n",
       "    <tr>\n",
       "      <th>1</th>\n",
       "      <td>머신러닝 엔지니어</td>\n",
       "      <td>LLM 학습 및 finetuning을 통해 내부적으로 필요한 LLM 개발을 진행합니다</td>\n",
       "      <td>['LLM', '학습', 'finetuning', 'LLM']</td>\n",
       "      <td>3</td>\n",
       "    </tr>\n",
       "    <tr>\n",
       "      <th>2</th>\n",
       "      <td>머신러닝 엔지니어</td>\n",
       "      <td>AI ,  ML 개발 방향성에 대한 전략을 수립합니다</td>\n",
       "      <td>['AI', 'ML', '방향성']</td>\n",
       "      <td>3</td>\n",
       "    </tr>\n",
       "    <tr>\n",
       "      <th>3</th>\n",
       "      <td>머신러닝 엔지니어</td>\n",
       "      <td>기업 고객에게 필요한 LLM 학습 데이터 구축 가이드라인 수립 및 사내 데이터 구축...</td>\n",
       "      <td>['고객', 'LLM', '학습', '데이터', '구축', '가이드', '데이터',...</td>\n",
       "      <td>1</td>\n",
       "    </tr>\n",
       "    <tr>\n",
       "      <th>4</th>\n",
       "      <td>머신러닝 엔지니어</td>\n",
       "      <td>AI ,  ML 등 관련 분야에서 박사 학위를 받았거나 받을 예정인 분</td>\n",
       "      <td>['AI', 'ML', '등', '박사', '학위']</td>\n",
       "      <td>0</td>\n",
       "    </tr>\n",
       "  </tbody>\n",
       "</table>\n",
       "</div>"
      ],
      "text/plain": [
       "          직무                                           sentence  \\\n",
       "0  머신러닝 엔지니어      기존 플리토 번역기에 신규 언어쌍 추가 및 플리토 번역기 성능 고도화를 담당합니다   \n",
       "1  머신러닝 엔지니어    LLM 학습 및 finetuning을 통해 내부적으로 필요한 LLM 개발을 진행합니다   \n",
       "2  머신러닝 엔지니어                      AI ,  ML 개발 방향성에 대한 전략을 수립합니다   \n",
       "3  머신러닝 엔지니어  기업 고객에게 필요한 LLM 학습 데이터 구축 가이드라인 수립 및 사내 데이터 구축...   \n",
       "4  머신러닝 엔지니어            AI ,  ML 등 관련 분야에서 박사 학위를 받았거나 받을 예정인 분   \n",
       "\n",
       "                                               nouns  kmeans_label  \n",
       "0                                ['언어', '성능', '고도화']             2  \n",
       "1                 ['LLM', '학습', 'finetuning', 'LLM']             3  \n",
       "2                                ['AI', 'ML', '방향성']             3  \n",
       "3  ['고객', 'LLM', '학습', '데이터', '구축', '가이드', '데이터',...             1  \n",
       "4                      ['AI', 'ML', '등', '박사', '학위']             0  "
      ]
     },
     "execution_count": 28,
     "metadata": {},
     "output_type": "execute_result"
    }
   ],
   "source": [
    "\n",
    "tmp.head()"
   ]
  },
  {
   "cell_type": "code",
   "execution_count": 29,
   "metadata": {},
   "outputs": [],
   "source": [
    "# tmp.drop(['vector'], axis=1, inplace=True)"
   ]
  },
  {
   "cell_type": "code",
   "execution_count": 14,
   "metadata": {},
   "outputs": [],
   "source": [
    "import ast"
   ]
  },
  {
   "cell_type": "code",
   "execution_count": 30,
   "metadata": {},
   "outputs": [
    {
     "data": {
      "text/html": [
       "<div>\n",
       "<style scoped>\n",
       "    .dataframe tbody tr th:only-of-type {\n",
       "        vertical-align: middle;\n",
       "    }\n",
       "\n",
       "    .dataframe tbody tr th {\n",
       "        vertical-align: top;\n",
       "    }\n",
       "\n",
       "    .dataframe thead th {\n",
       "        text-align: right;\n",
       "    }\n",
       "</style>\n",
       "<table border=\"1\" class=\"dataframe\">\n",
       "  <thead>\n",
       "    <tr style=\"text-align: right;\">\n",
       "      <th></th>\n",
       "      <th>직무</th>\n",
       "      <th>sentence</th>\n",
       "      <th>nouns</th>\n",
       "      <th>kmeans_label</th>\n",
       "    </tr>\n",
       "  </thead>\n",
       "  <tbody>\n",
       "    <tr>\n",
       "      <th>0</th>\n",
       "      <td>머신러닝 엔지니어</td>\n",
       "      <td>기존 플리토 번역기에 신규 언어쌍 추가 및 플리토 번역기 성능 고도화를 담당합니다</td>\n",
       "      <td>['언어', '성능', '고도화']</td>\n",
       "      <td>2</td>\n",
       "    </tr>\n",
       "    <tr>\n",
       "      <th>1</th>\n",
       "      <td>머신러닝 엔지니어</td>\n",
       "      <td>LLM 학습 및 finetuning을 통해 내부적으로 필요한 LLM 개발을 진행합니다</td>\n",
       "      <td>['LLM', '학습', 'finetuning', 'LLM']</td>\n",
       "      <td>3</td>\n",
       "    </tr>\n",
       "    <tr>\n",
       "      <th>2</th>\n",
       "      <td>머신러닝 엔지니어</td>\n",
       "      <td>AI ,  ML 개발 방향성에 대한 전략을 수립합니다</td>\n",
       "      <td>['AI', 'ML', '방향성']</td>\n",
       "      <td>3</td>\n",
       "    </tr>\n",
       "    <tr>\n",
       "      <th>3</th>\n",
       "      <td>머신러닝 엔지니어</td>\n",
       "      <td>기업 고객에게 필요한 LLM 학습 데이터 구축 가이드라인 수립 및 사내 데이터 구축...</td>\n",
       "      <td>['고객', 'LLM', '학습', '데이터', '구축', '가이드', '데이터',...</td>\n",
       "      <td>1</td>\n",
       "    </tr>\n",
       "    <tr>\n",
       "      <th>4</th>\n",
       "      <td>머신러닝 엔지니어</td>\n",
       "      <td>AI ,  ML 등 관련 분야에서 박사 학위를 받았거나 받을 예정인 분</td>\n",
       "      <td>['AI', 'ML', '등', '박사', '학위']</td>\n",
       "      <td>0</td>\n",
       "    </tr>\n",
       "    <tr>\n",
       "      <th>...</th>\n",
       "      <td>...</td>\n",
       "      <td>...</td>\n",
       "      <td>...</td>\n",
       "      <td>...</td>\n",
       "    </tr>\n",
       "    <tr>\n",
       "      <th>15766</th>\n",
       "      <td>DBA</td>\n",
       "      <td>데이터베이스 개발 경험 TSQL,  Ansi SQL,  Shell Script,  ...</td>\n",
       "      <td>['데이터', '베이스', 'SQL']</td>\n",
       "      <td>2</td>\n",
       "    </tr>\n",
       "    <tr>\n",
       "      <th>15767</th>\n",
       "      <td>DBA</td>\n",
       "      <td>데이터 모델링에 대한 경험모델링 절차 ,  정규화 및 비정규화 있으신 분</td>\n",
       "      <td>['데이터', '모델', '모델링', '정규화']</td>\n",
       "      <td>3</td>\n",
       "    </tr>\n",
       "    <tr>\n",
       "      <th>15768</th>\n",
       "      <td>DBA</td>\n",
       "      <td>Windows,  Linux,  Cloud 환경에 대한 기본 지식 있으신 분</td>\n",
       "      <td>['Cloud']</td>\n",
       "      <td>3</td>\n",
       "    </tr>\n",
       "    <tr>\n",
       "      <th>15769</th>\n",
       "      <td>DBA</td>\n",
       "      <td>데이터 모델 검수 및 가이드 경험 있으신 분</td>\n",
       "      <td>['데이터', '모델', '가이드']</td>\n",
       "      <td>3</td>\n",
       "    </tr>\n",
       "    <tr>\n",
       "      <th>15770</th>\n",
       "      <td>DBA</td>\n",
       "      <td>데이터 흐름 분석 및 데이터 표준화 경험 있으신 분</td>\n",
       "      <td>['데이터', '흐름', '분석', '데이터', '표준']</td>\n",
       "      <td>3</td>\n",
       "    </tr>\n",
       "  </tbody>\n",
       "</table>\n",
       "<p>14587 rows × 4 columns</p>\n",
       "</div>"
      ],
      "text/plain": [
       "              직무                                           sentence  \\\n",
       "0      머신러닝 엔지니어      기존 플리토 번역기에 신규 언어쌍 추가 및 플리토 번역기 성능 고도화를 담당합니다   \n",
       "1      머신러닝 엔지니어    LLM 학습 및 finetuning을 통해 내부적으로 필요한 LLM 개발을 진행합니다   \n",
       "2      머신러닝 엔지니어                      AI ,  ML 개발 방향성에 대한 전략을 수립합니다   \n",
       "3      머신러닝 엔지니어  기업 고객에게 필요한 LLM 학습 데이터 구축 가이드라인 수립 및 사내 데이터 구축...   \n",
       "4      머신러닝 엔지니어            AI ,  ML 등 관련 분야에서 박사 학위를 받았거나 받을 예정인 분   \n",
       "...          ...                                                ...   \n",
       "15766        DBA  데이터베이스 개발 경험 TSQL,  Ansi SQL,  Shell Script,  ...   \n",
       "15767        DBA           데이터 모델링에 대한 경험모델링 절차 ,  정규화 및 비정규화 있으신 분   \n",
       "15768        DBA         Windows,  Linux,  Cloud 환경에 대한 기본 지식 있으신 분   \n",
       "15769        DBA                           데이터 모델 검수 및 가이드 경험 있으신 분   \n",
       "15770        DBA                       데이터 흐름 분석 및 데이터 표준화 경험 있으신 분   \n",
       "\n",
       "                                                   nouns  kmeans_label  \n",
       "0                                    ['언어', '성능', '고도화']             2  \n",
       "1                     ['LLM', '학습', 'finetuning', 'LLM']             3  \n",
       "2                                    ['AI', 'ML', '방향성']             3  \n",
       "3      ['고객', 'LLM', '학습', '데이터', '구축', '가이드', '데이터',...             1  \n",
       "4                          ['AI', 'ML', '등', '박사', '학위']             0  \n",
       "...                                                  ...           ...  \n",
       "15766                              ['데이터', '베이스', 'SQL']             2  \n",
       "15767                        ['데이터', '모델', '모델링', '정규화']             3  \n",
       "15768                                          ['Cloud']             3  \n",
       "15769                               ['데이터', '모델', '가이드']             3  \n",
       "15770                   ['데이터', '흐름', '분석', '데이터', '표준']             3  \n",
       "\n",
       "[14587 rows x 4 columns]"
      ]
     },
     "execution_count": 30,
     "metadata": {},
     "output_type": "execute_result"
    }
   ],
   "source": [
    "tmp.loc[tmp.nouns != '[]',:]"
   ]
  },
  {
   "cell_type": "code",
   "execution_count": 32,
   "metadata": {},
   "outputs": [],
   "source": [
    "final = tmp.loc[tmp.nouns != '[]',:]"
   ]
  },
  {
   "cell_type": "code",
   "execution_count": 34,
   "metadata": {},
   "outputs": [
    {
     "name": "stderr",
     "output_type": "stream",
     "text": [
      "/var/folders/1b/dx8_94fs0q740wx3lfknk6y40000gn/T/ipykernel_9302/740713494.py:1: SettingWithCopyWarning: \n",
      "A value is trying to be set on a copy of a slice from a DataFrame.\n",
      "Try using .loc[row_indexer,col_indexer] = value instead\n",
      "\n",
      "See the caveats in the documentation: https://pandas.pydata.org/pandas-docs/stable/user_guide/indexing.html#returning-a-view-versus-a-copy\n",
      "  final.kmeans_label = final.kmeans_label.astype('int8')\n"
     ]
    }
   ],
   "source": [
    "final.kmeans_label = final.kmeans_label.astype('int8')"
   ]
  },
  {
   "cell_type": "code",
   "execution_count": 35,
   "metadata": {},
   "outputs": [
    {
     "data": {
      "text/html": [
       "<div>\n",
       "<style scoped>\n",
       "    .dataframe tbody tr th:only-of-type {\n",
       "        vertical-align: middle;\n",
       "    }\n",
       "\n",
       "    .dataframe tbody tr th {\n",
       "        vertical-align: top;\n",
       "    }\n",
       "\n",
       "    .dataframe thead th {\n",
       "        text-align: right;\n",
       "    }\n",
       "</style>\n",
       "<table border=\"1\" class=\"dataframe\">\n",
       "  <thead>\n",
       "    <tr style=\"text-align: right;\">\n",
       "      <th></th>\n",
       "      <th>kmeans_label</th>\n",
       "    </tr>\n",
       "  </thead>\n",
       "  <tbody>\n",
       "    <tr>\n",
       "      <th>count</th>\n",
       "      <td>14587.000000</td>\n",
       "    </tr>\n",
       "    <tr>\n",
       "      <th>mean</th>\n",
       "      <td>1.763694</td>\n",
       "    </tr>\n",
       "    <tr>\n",
       "      <th>std</th>\n",
       "      <td>1.087948</td>\n",
       "    </tr>\n",
       "    <tr>\n",
       "      <th>min</th>\n",
       "      <td>0.000000</td>\n",
       "    </tr>\n",
       "    <tr>\n",
       "      <th>25%</th>\n",
       "      <td>1.000000</td>\n",
       "    </tr>\n",
       "    <tr>\n",
       "      <th>50%</th>\n",
       "      <td>2.000000</td>\n",
       "    </tr>\n",
       "    <tr>\n",
       "      <th>75%</th>\n",
       "      <td>3.000000</td>\n",
       "    </tr>\n",
       "    <tr>\n",
       "      <th>max</th>\n",
       "      <td>3.000000</td>\n",
       "    </tr>\n",
       "  </tbody>\n",
       "</table>\n",
       "</div>"
      ],
      "text/plain": [
       "       kmeans_label\n",
       "count  14587.000000\n",
       "mean       1.763694\n",
       "std        1.087948\n",
       "min        0.000000\n",
       "25%        1.000000\n",
       "50%        2.000000\n",
       "75%        3.000000\n",
       "max        3.000000"
      ]
     },
     "execution_count": 35,
     "metadata": {},
     "output_type": "execute_result"
    }
   ],
   "source": [
    "final.describe()"
   ]
  },
  {
   "cell_type": "code",
   "execution_count": 36,
   "metadata": {},
   "outputs": [
    {
     "name": "stdout",
     "output_type": "stream",
     "text": [
      "<class 'pandas.core.frame.DataFrame'>\n",
      "Index: 14587 entries, 0 to 15770\n",
      "Data columns (total 4 columns):\n",
      " #   Column        Non-Null Count  Dtype \n",
      "---  ------        --------------  ----- \n",
      " 0   직무            14587 non-null  object\n",
      " 1   sentence      14587 non-null  object\n",
      " 2   nouns         14587 non-null  object\n",
      " 3   kmeans_label  14587 non-null  int8  \n",
      "dtypes: int8(1), object(3)\n",
      "memory usage: 470.1+ KB\n"
     ]
    }
   ],
   "source": [
    "final.info()"
   ]
  },
  {
   "cell_type": "code",
   "execution_count": 37,
   "metadata": {},
   "outputs": [],
   "source": [
    "final.to_csv('final_sentence_df.csv', index=False)"
   ]
  },
  {
   "cell_type": "code",
   "execution_count": 25,
   "metadata": {},
   "outputs": [],
   "source": []
  },
  {
   "cell_type": "code",
   "execution_count": 22,
   "metadata": {},
   "outputs": [],
   "source": [
    "tmp.to_csv('final_sentence_df.csv', index=False)"
   ]
  },
  {
   "cell_type": "code",
   "execution_count": 24,
   "metadata": {},
   "outputs": [
    {
     "name": "stdout",
     "output_type": "stream",
     "text": [
      "<class 'pandas.core.frame.DataFrame'>\n",
      "RangeIndex: 15771 entries, 0 to 15770\n",
      "Data columns (total 4 columns):\n",
      " #   Column        Non-Null Count  Dtype \n",
      "---  ------        --------------  ----- \n",
      " 0   직무            15771 non-null  object\n",
      " 1   sentence      15771 non-null  object\n",
      " 2   nouns         15771 non-null  object\n",
      " 3   kmeans_label  15771 non-null  int8  \n",
      "dtypes: int8(1), object(3)\n",
      "memory usage: 385.2+ KB\n"
     ]
    }
   ],
   "source": [
    "tmp.info()"
   ]
  },
  {
   "cell_type": "code",
   "execution_count": 38,
   "metadata": {},
   "outputs": [
    {
     "data": {
      "text/plain": [
       "5257"
      ]
     },
     "execution_count": 38,
     "metadata": {},
     "output_type": "execute_result"
    }
   ],
   "source": [
    "15771 // 3"
   ]
  },
  {
   "cell_type": "code",
   "execution_count": 39,
   "metadata": {},
   "outputs": [],
   "source": [
    "import pandas as pd\n",
    "\n",
    "# 데이터 로드\n",
    "df = pd.read_csv('final_sentence_df.csv')\n",
    "\n",
    "# 데이터 분리\n",
    "third = len(df) // 3  # 1/3 지점 찾기\n",
    "df1 = df.iloc[:third]  # 첫 번째 부분\n",
    "df2 = df.iloc[third:2*third]  # 두 번째 부분\n",
    "df3 = df.iloc[2*third:]  # 세 번째 부분\n",
    "\n",
    "# 분리된 데이터 저장\n",
    "df1.to_csv('final_sentence_df_1.csv', index=False)\n",
    "df2.to_csv('final_sentence_df_2.csv', index=False)\n",
    "df3.to_csv('final_sentence_df_3.csv', index=False)\n"
   ]
  },
  {
   "cell_type": "code",
   "execution_count": null,
   "metadata": {},
   "outputs": [],
   "source": []
  }
 ],
 "metadata": {
  "kernelspec": {
   "display_name": "django",
   "language": "python",
   "name": "python3"
  },
  "language_info": {
   "codemirror_mode": {
    "name": "ipython",
    "version": 3
   },
   "file_extension": ".py",
   "mimetype": "text/x-python",
   "name": "python",
   "nbconvert_exporter": "python",
   "pygments_lexer": "ipython3",
   "version": "3.12.0"
  }
 },
 "nbformat": 4,
 "nbformat_minor": 2
}
